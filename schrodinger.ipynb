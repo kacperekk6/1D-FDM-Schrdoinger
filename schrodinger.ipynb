{
 "cells": [
  {
   "cell_type": "markdown",
   "id": "bb3bba56",
   "metadata": {},
   "source": [
    "# 1D FDM solution to stationary Schrodinger equation\n",
    "\n",
    "## Theory\n",
    "\n",
    "In quantum mechanics time dependent Schrodinger Equation allows to calculate wavefunctions of the system and investigate how they evolve in time. Mathematically it's a second order, linear PDE\n",
    "\n",
    "$$\n",
    "\\hat H \\psi (\\vec r, t) = - i \\hbar \\frac{\\partial}{\\partial t} \\psi (\\vec r, t),\n",
    "$$\n",
    "\n",
    "where for a particle bounend in time-independent potential $V$, the system is described by hamiltonian\n",
    "\n",
    "$$\n",
    "\\hat H = - \\frac{\\hbar ^2}{2m} \\nabla ^2 + V(\\vec r),\n",
    "$$\n",
    "\n",
    "Assuming a wavefunction to be in a product form of its time-independent part $\\psi (\\vec r)$ and time dependent part $ \\phi (t)$ one can separate the time dependent SE into two equations:\n",
    "\n",
    "$$\n",
    "    \\begin{cases}\n",
    "         \\left[ - \\frac{\\hbar ^2}{2m} \\nabla ^2 + V(\\vec r) \\right] \\psi (\\vec r) = E \\psi (\\vec r), \\\\\n",
    "         \\phi (t) = \\exp \\left( - i \\frac{Et}{\\hbar} \\right),\n",
    "    \\end{cases}\\,\n",
    "$$\n",
    "\n",
    "where $ \\psi (\\vec r, t) =  \\psi (\\vec r) \\phi (t)$, the first eq. is called 'stationary' SE, and the second one \n",
    "\n",
    "\n",
    "$$\n",
    "\\hat H = - \\frac{\\hbar ^2}{2m} \\partial_x ^2 + V(x).\n",
    "$$"
   ]
  },
  {
   "cell_type": "code",
   "execution_count": 1,
   "id": "afa8e032",
   "metadata": {},
   "outputs": [],
   "source": [
    "import numpy as np\n",
    "from matplotlib import pyplot as plt"
   ]
  },
  {
   "cell_type": "code",
   "execution_count": 2,
   "id": "e15809d8",
   "metadata": {},
   "outputs": [],
   "source": [
    "x_min = -10\n",
    "x_max = 10\n",
    "N = 1001\n",
    "\n",
    "h_bar = 1\n",
    "m = 1\n",
    "\n",
    "x = np.linspace(x_min, x_max, N)\n",
    "h = x[1] - x[0]\n",
    "\n",
    "const_1 = - h_bar ** 2 /(2 * m * h **2)\n",
    "\n",
    "T = np.zeros((N-2, N-2), dtype=float)\n",
    "V = np.zeros((N-2, N-2), dtype=float)\n",
    "\n",
    "\n",
    "\n",
    "def V_func(x):\n",
    "    k = 1\n",
    "    return k * x ** 2"
   ]
  },
  {
   "cell_type": "code",
   "execution_count": 3,
   "id": "ed78633c",
   "metadata": {},
   "outputs": [],
   "source": [
    "for i in range(N-2):\n",
    "    T[i, i] = -2\n",
    "    \n",
    "for i in range(N-3):\n",
    "    T[i+1, i] = 1\n",
    "    T[i, i+1] = 1\n",
    "\n",
    "T = const_1 * T\n",
    "    \n",
    "for i in range(N-2):\n",
    "    V[i, i] = V_func(x[i+1])\n"
   ]
  },
  {
   "cell_type": "markdown",
   "id": "d2d75ccb",
   "metadata": {},
   "source": [
    "Now we construct the full hamiltonian matrix:\n",
    "\n",
    "$$\n",
    "\\hat T = -\\frac{\\hbar ^2}{2 m h^2}\n",
    "\\begin{bmatrix}\n",
    "-2 & 1 & 0 & \\dots & 0 \\\\\n",
    "1 & -2 & 1 & \\dots & 0 \\\\\n",
    "0 & 1 & -2 & \\dots & 0 \\\\\n",
    "\\vdots & \\vdots & \\vdots &  \\ddots  & 1 \\\\\n",
    "0 & 0 & 0 & 1 & -2 \n",
    "\\end{bmatrix}\n",
    "$$\n",
    "\n",
    "$$\n",
    "\\hat V = \n",
    "\\begin{bmatrix}\n",
    "V_1 & 0 & 0 & \\dots & 0 \\\\\n",
    "0 & V_2 & 0 & \\dots & 0 \\\\\n",
    "0 & 0 & V_3 & \\dots & 0 \\\\\n",
    "\\vdots & \\vdots & \\vdots &  \\ddots  & 0 \\\\\n",
    "0 & 0 & 0 & 0 & V_{N-1}\n",
    "\\end{bmatrix} \n",
    "$$\n"
   ]
  },
  {
   "cell_type": "code",
   "execution_count": 4,
   "id": "c7a42e33",
   "metadata": {},
   "outputs": [],
   "source": [
    "H = T + V"
   ]
  },
  {
   "cell_type": "markdown",
   "id": "deb735ff",
   "metadata": {},
   "source": [
    "$$\n",
    "\\hat H \\vec \\psi = E_n \\vec \\psi, \\space n = \\{1, 2, \\dots, N-1\\},\n",
    "$$\n",
    "\n",
    "where $\\vec \\psi $ is a vector containing all the discretized wavefunctions, that have the corresponding energy eigenvalue $E_n$. We solve this eigenvalue problem by using built-in *numpy* function *linalg.eig()* :"
   ]
  },
  {
   "cell_type": "code",
   "execution_count": 5,
   "id": "a6304112",
   "metadata": {},
   "outputs": [],
   "source": [
    "def eigen(matrix):\n",
    "    eigen_vals, eigen_vectors = np.linalg.eigh(matrix)\n",
    "    idx = np.argsort(eigen_vals)\n",
    "    eigen_vals = eigen_vals[idx]\n",
    "    eigen_vectors = eigen_vectors[:,idx]\n",
    "    return (eigen_vals, eigen_vectors)\n",
    "\n",
    "energies, psi = eigen(H)\n",
    "\n",
    "energies = energies / energies.min()"
   ]
  },
  {
   "cell_type": "markdown",
   "id": "d79bf682",
   "metadata": {},
   "source": [
    "# According to analytical solution of SE for 1D quantum harmonic oscillator the corresponding energy levels are\n",
    "\n",
    "$$\n",
    "E_n = {\\hbar} \\omega \\left(n + \\frac{1}{2} \\right) \n",
    "$$\n",
    "\n",
    "This proportionality is true as long as potential is a non-negative, quadratic form of position."
   ]
  },
  {
   "cell_type": "code",
   "execution_count": 46,
   "id": "c39ef01b",
   "metadata": {},
   "outputs": [],
   "source": [
    "def normalize(psi, x, h):\n",
    "    psi_squared = psi ** 2\n",
    "    integ = np.trapz(psi_squared, x, h)\n",
    "    norm = np.sqrt(integ)\n",
    "    return psi / norm\n",
    "\n",
    "\n",
    "#here we create a 2d ndarray of |psi|^2 \n",
    "\n",
    "probabilities = []\n",
    "\n",
    "for i in range(len(psi)):\n",
    "    probabilities.append(normalize(psi[:, i], x[1:-1], h) ** 2)\n",
    "\n",
    "\n"
   ]
  },
  {
   "cell_type": "code",
   "execution_count": 56,
   "id": "f9170941",
   "metadata": {},
   "outputs": [
    {
     "data": {
      "image/png": "[encoded data removed]",
      "text/plain": [
       "<Figure size 640x480 with 1 Axes>"
      ]
     },
     "metadata": {},
     "output_type": "display_data"
    }
   ],
   "source": [
    "pot = V_func(x)\n",
    "\n",
    "for k in range(4):\n",
    "    wave = probabilities[k]  + energies[k]\n",
    "    plt.plot(x[1:-1], wave, label = f'$|\\psi_{k}|^2$')\n",
    "    \n",
    "plt.xlim(-5,5)\n",
    "plt.ylim(0, 9)\n",
    "plt.plot(x[1:-1], pot[1:-1], '--', label = 'V(x)')\n",
    "\n",
    "plt.legend()\n",
    "plt.grid()    \n",
    "plt.show()\n",
    "    "
   ]
  },
  {
   "cell_type": "code",
   "execution_count": null,
   "id": "f42c3f53",
   "metadata": {},
   "outputs": [],
   "source": []
  }
 ],
 "metadata": {
  "kernelspec": {
   "display_name": "Python 3 (ipykernel)",
   "language": "python",
   "name": "python3"
  },
  "language_info": {
   "codemirror_mode": {
    "name": "ipython",
    "version": 3
   },
   "file_extension": ".py",
   "mimetype": "text/x-python",
   "name": "python",
   "nbconvert_exporter": "python",
   "pygments_lexer": "ipython3",
   "version": "3.9.13"
  }
 },
 "nbformat": 4,
 "nbformat_minor": 5
}
